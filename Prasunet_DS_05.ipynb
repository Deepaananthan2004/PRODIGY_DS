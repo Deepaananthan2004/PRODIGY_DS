{
  "nbformat": 4,
  "nbformat_minor": 0,
  "metadata": {
    "colab": {
      "provenance": []
    },
    "kernelspec": {
      "name": "python3",
      "display_name": "Python 3"
    },
    "language_info": {
      "name": "python"
    }
  },
  "cells": [
    {
      "cell_type": "code",
      "execution_count": null,
      "metadata": {
        "id": "_1Ha6huLAnK5"
      },
      "outputs": [],
      "source": [
        "import pandas as pd\n",
        "import matplotlib.pyplot as plt\n",
        "import seaborn as sns\n",
        "\n",
        "file_path = 'US_Accidents.csv'\n",
        "df = pd.read_csv(file_path)\n",
        "\n",
        "df['Start_Time'] = pd.to_datetime(df['Start_Time'])\n",
        "df['Hour'] = df['Start_Time'].dt.hour\n",
        "\n",
        "plt.figure(figsize=(18, 15))\n",
        "\n",
        "plt.subplot(321)\n",
        "labels = df['Severity'].value_counts().index\n",
        "sizes = df['Severity'].value_counts().values\n",
        "plt.pie(sizes, labels=labels, autopct='%1.1f%%', startangle=140)\n",
        "plt.title('Distribution of Accident Severity')\n",
        "\n",
        "plt.subplot(322)\n",
        "top_states = df['State'].value_counts().head(10)\n",
        "top_states.plot(kind='bar', color='skyblue')\n",
        "plt.title('Top 10 States by Accident Count')\n",
        "plt.xlabel('State')\n",
        "plt.ylabel('Number of Accidents')\n",
        "plt.xticks(rotation=45)\n",
        "\n",
        "plt.subplot(323)\n",
        "accidents_by_month = df['Start_Time'].dt.month_name().value_counts().sort_index()\n",
        "accidents_by_month_df = pd.DataFrame({'Month': accidents_by_month.index, 'Accident Count': accidents_by_month.values})\n",
        "plt.table(cellText=accidents_by_month_df.values, colLabels=accidents_by_month_df.columns, cellLoc='center', loc='center')\n",
        "plt.title('Accidents by Month')\n",
        "plt.axis('off')\n",
        "\n",
        "plt.subplot(324)\n",
        "sns.histplot(df['Temperature(F)'].dropna(), bins=30, kde=True, color='purple')\n",
        "plt.title('Distribution of Accidents by Temperature')\n",
        "plt.xlabel('Temperature (Fahrenheit)')\n",
        "plt.ylabel('Number of Accidents')\n",
        "\n",
        "plt.subplot(325)\n",
        "hourly_accidents = df.groupby(df['Start_Time'].dt.hour)['ID'].count()\n",
        "hourly_accidents.plot(kind='line', marker='o', color='green')\n",
        "plt.title('Accidents Trend by Hour of the Day')\n",
        "plt.xlabel('Hour of the Day')\n",
        "plt.ylabel('Number of Accidents')\n",
        "plt.xticks(range(24))\n",
        "plt.grid(True)\n",
        "\n",
        "plt.tight_layout()\n",
        "plt.show()"
      ]
    }
  ]
}